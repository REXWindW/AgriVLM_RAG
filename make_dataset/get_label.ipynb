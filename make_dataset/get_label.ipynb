{
 "cells": [
  {
   "cell_type": "code",
   "execution_count": 1,
   "metadata": {},
   "outputs": [],
   "source": [
    "import os\n",
    "import json"
   ]
  },
  {
   "cell_type": "code",
   "execution_count": 3,
   "metadata": {},
   "outputs": [],
   "source": [
    "base_dir = \"/root/workspace/PlantVillage_Corn\"\n",
    "folders = ['Corn_(maize)___Cercospora_leaf_spot Gray_leaf_spot', \n",
    "         'Corn_(maize)___Common_rust_',\n",
    "         'Corn_(maize)___healthy',\n",
    "         'Corn_(maize)___Northern_Leaf_Blight']\n",
    "\n",
    "labels = ['一张玉米灰斑病的玉米叶片图像',\n",
    "         '一张玉米锈病的玉米叶片图像',\n",
    "         '一张健康的玉米叶片图像',\n",
    "         '一张玉米叶斑病的玉米叶片图像']\n",
    "\n",
    "# 对应的文本说明，用来描述纹理特点，辅助LLM进行标注\n",
    "# 让LLM能把图片和文本里的内容对应起来\n",
    "# prompt： 以下为一些病害症状：{discription[i]}请结合这些症状描述，生成一段对于图片的描述，不要有多余输出。\n",
    "description = ['1.叶片上有褐色斑点。2.浅褐色条纹或不规则的灰色到褐色长条斑，病斑中间灰色。3.叶片有黑色霉层，即病菌的分生孢子梗和分生孢子。',\n",
    "              '1.叶片有淡黄白色小斑，四周有黄色晕圈。2.突起的黄褐色乃至红褐色疱斑。3.有圆形或长圆形的夏孢子堆。孢子堆表皮破裂后散出铁锈状夏孢子。4.有黑色疱斑，即病菌的冬孢子堆，长椭圆形，疱斑破裂散出黑褐色粉状物。',\n",
    "              '空',\n",
    "              '1.叶片上出现雪茄形或椭圆形的坏死灰绿色病斑,通常具有烟灰般的外观。2.随着病害的发展，病斑会融合在一起，形成大面积的死叶组织。']"
   ]
  },
  {
   "cell_type": "code",
   "execution_count": 10,
   "metadata": {},
   "outputs": [
    {
     "name": "stdout",
     "output_type": "stream",
     "text": [
      "count images:1323\n",
      "图片信息已成功保存到images_data.json\n"
     ]
    }
   ],
   "source": [
    "\n",
    "# 初始化一个空列表，用于存储所有图片信息\n",
    "images_data = []\n",
    "\n",
    "# 遍历ABC三个文件夹\n",
    "for folder in folders:\n",
    "    folder_path = os.path.join(base_dir, folder)\n",
    "    \n",
    "    # 确保文件夹存在\n",
    "    if os.path.exists(folder_path):\n",
    "        # 遍历文件夹中的所有文件\n",
    "        for filename in os.listdir(folder_path):\n",
    "            # 仅处理图片文件（可以根据需要筛选文件类型）\n",
    "            if filename.endswith(('.png', '.jpg', '.jpeg', '.bmp', '.gif')):\n",
    "                # 获取图片的完整路径\n",
    "                file_path = os.path.join(folder_path, filename)\n",
    "                \n",
    "                id = folders.index(folder)\n",
    "                \n",
    "                # 添加图片信息到列表中\n",
    "                images_data.append({\n",
    "                    'path': file_path,\n",
    "                    'id': id,\n",
    "                    'label': labels[id] + '\\n' + description[id]\n",
    "                })\n",
    "\n",
    "# 将图片信息保存到JSON文件\n",
    "print(f\"count images:{len(images_data)}\") # 1323 images in total (不是很多)\n",
    "with open('images_data.json', 'w') as json_file:\n",
    "    # dump to json chinese\n",
    "    json.dump(images_data, json_file, indent=4, ensure_ascii=False)\n",
    "\n",
    "print(\"图片信息已成功保存到images_data.json\")"
   ]
  },
  {
   "cell_type": "code",
   "execution_count": null,
   "metadata": {},
   "outputs": [],
   "source": [
    "# 尝试调用"
   ]
  }
 ],
 "metadata": {
  "kernelspec": {
   "display_name": "base",
   "language": "python",
   "name": "python3"
  },
  "language_info": {
   "codemirror_mode": {
    "name": "ipython",
    "version": 3
   },
   "file_extension": ".py",
   "mimetype": "text/x-python",
   "name": "python",
   "nbconvert_exporter": "python",
   "pygments_lexer": "ipython3",
   "version": "3.10.8"
  }
 },
 "nbformat": 4,
 "nbformat_minor": 2
}
